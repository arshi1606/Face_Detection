{
 "cells": [
  {
   "cell_type": "code",
   "execution_count": 1,
   "id": "3f7119d9-82cd-48f2-ba40-851cde9fafed",
   "metadata": {},
   "outputs": [],
   "source": [
    "import cv2 as cv\n",
    "\n",
    "# Use the correct path for the haarcascade_frontalface_alt.xml file\n",
    "face_cascade_path = \"D:/software/Program Files/Lib/site-packages/cv2/data/haarcascade_frontalface_alt.xml\"\n",
    "face_cascade = cv.CascadeClassifier(face_cascade_path)\n",
    "video_cap = cv.VideoCapture(0)\n",
    "\n",
    "while True:\n",
    "    ret, video_data = video_cap.read()\n",
    "    if not ret:\n",
    "        break\n",
    "    \n",
    "    col = cv.cvtColor(video_data, cv.COLOR_BGR2GRAY)\n",
    "    faces = face_cascade.detectMultiScale(\n",
    "        col,\n",
    "        scaleFactor=1.1,\n",
    "        minNeighbors=10,\n",
    "        minSize=(30, 30),\n",
    "        flags=cv.CASCADE_SCALE_IMAGE\n",
    "    )\n",
    "    for (x, y, w, h) in faces:\n",
    "        cv.rectangle(video_data, (x, y), (x + w, y + h), (0, 255, 0), 2)\n",
    "\n",
    "    cv.imshow(\"video_Live_Capture\", video_data)\n",
    "\n",
    "    # Use waitKey with a capital 'K'\n",
    "    if cv.waitKey(10) == ord(\"a\"):\n",
    "        break\n",
    "\n",
    "video_cap.release()\n",
    "cv.destroyAllWindows()\n"
   ]
  }
 ],
 "metadata": {
  "kernelspec": {
   "display_name": "Python 3 (ipykernel)",
   "language": "python",
   "name": "python3"
  },
  "language_info": {
   "codemirror_mode": {
    "name": "ipython",
    "version": 3
   },
   "file_extension": ".py",
   "mimetype": "text/x-python",
   "name": "python",
   "nbconvert_exporter": "python",
   "pygments_lexer": "ipython3",
   "version": "3.12.0"
  }
 },
 "nbformat": 4,
 "nbformat_minor": 5
}
